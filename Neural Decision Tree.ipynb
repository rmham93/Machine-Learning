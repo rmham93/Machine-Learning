{
 "cells": [
  {
   "cell_type": "markdown",
   "metadata": {},
   "source": [
    "<center> <h1> Neural Decision Tree </h1> <h3>Fatma Ridaoui </h3> </center>\n"
   ]
  },
  {
   "cell_type": "markdown",
   "metadata": {},
   "source": [
    "make moons dataset / sklearn <p>\n",
    "malicious websites <p>\n",
    "housing.csv @ https://raw.githubusercontent.com/jbrownlee/Datasets/master/housing.data / regression"
   ]
  },
  {
   "cell_type": "markdown",
   "metadata": {},
   "source": [
    "## Imports"
   ]
  },
  {
   "cell_type": "code",
   "execution_count": 1,
   "metadata": {},
   "outputs": [],
   "source": [
    "import numpy as np\n",
    "import pandas as pd\n",
    "import random\n",
    "from sklearn import tree\n",
    "import tensorflow as tf\n",
    "import seaborn as sn\n",
    "\n",
    "from sklearn import preprocessing\n",
    "from sklearn.ensemble import RandomForestClassifier, RandomForestRegressor\n",
    "from sklearn.tree import DecisionTreeClassifier, DecisionTreeRegressor\n",
    "from sklearn.metrics import ConfusionMatrixDisplay,confusion_matrix\n",
    "from sklearn.preprocessing import StandardScaler\n",
    "from sklearn.model_selection import KFold, train_test_split,cross_val_score\n",
    "from sklearn.metrics import accuracy_score, recall_score, precision_score,mean_squared_error\n",
    "from sklearn.neural_network import MLPClassifier, MLPRegressor\n",
    "\n",
    "from sklearn.datasets import make_moons\n",
    "from tabulate import tabulate\n",
    "import matplotlib.pyplot as plt\n",
    "\n",
    "#There are much warnings from tf i will ignore for visual simplicity\n",
    "import warnings\n",
    "warnings.filterwarnings('ignore')\n",
    "\n",
    "%matplotlib inline"
   ]
  },
  {
   "cell_type": "markdown",
   "metadata": {},
   "source": [
    "## Datasets & Preprocessing"
   ]
  },
  {
   "cell_type": "markdown",
   "metadata": {},
   "source": [
    "#### 1 Make moons "
   ]
  },
  {
   "cell_type": "code",
   "execution_count": 2,
   "metadata": {},
   "outputs": [],
   "source": [
    "moonsX, moonsy = make_moons(n_samples=2000, noise=0.2, shuffle=True, random_state=42)\n",
    "moons_X_train, moons_X_test, moons_y_train, moons_y_test = train_test_split(moonsX, moonsy, test_size=0.20, \n",
    "                                                    random_state=42, stratify=moonsy, shuffle=True)"
   ]
  },
  {
   "cell_type": "code",
   "execution_count": 51,
   "metadata": {},
   "outputs": [
    {
     "data": {
      "text/plain": [
       "(array([[ 1.64703896,  0.3088347 ],\n",
       "        [ 0.3510386 ,  0.9650405 ],\n",
       "        [ 0.49061588, -0.27061724],\n",
       "        ...,\n",
       "        [-0.96701302,  0.63271301],\n",
       "        [ 0.80593336, -0.76011338],\n",
       "        [ 0.22621047,  0.07307511]]),\n",
       " array([1, 0, 1, ..., 0, 1, 1], dtype=int64))"
      ]
     },
     "execution_count": 51,
     "metadata": {},
     "output_type": "execute_result"
    }
   ],
   "source": [
    "moonsX, moonsy"
   ]
  },
  {
   "cell_type": "markdown",
   "metadata": {},
   "source": [
    "#### 2 housing "
   ]
  },
  {
   "cell_type": "code",
   "execution_count": 3,
   "metadata": {},
   "outputs": [],
   "source": [
    "housingdf = pd.read_csv(\"housing.csv\", delim_whitespace=True, header=None)\n",
    "dataset = housingdf.fillna(0)\n",
    "dataset = housingdf.values\n",
    "\n",
    "# split into input (X) and output (Y) variables\n",
    "housingX = dataset[:,0:13]\n",
    "housingY = dataset[:,13]"
   ]
  },
  {
   "cell_type": "code",
   "execution_count": 4,
   "metadata": {},
   "outputs": [
    {
     "data": {
      "text/plain": [
       "(array([[6.3200e-03, 1.8000e+01, 2.3100e+00, 0.0000e+00, 5.3800e-01,\n",
       "         6.5750e+00, 6.5200e+01, 4.0900e+00, 1.0000e+00, 2.9600e+02,\n",
       "         1.5300e+01, 3.9690e+02, 4.9800e+00],\n",
       "        [2.7310e-02, 0.0000e+00, 7.0700e+00, 0.0000e+00, 4.6900e-01,\n",
       "         6.4210e+00, 7.8900e+01, 4.9671e+00, 2.0000e+00, 2.4200e+02,\n",
       "         1.7800e+01, 3.9690e+02, 9.1400e+00],\n",
       "        [2.7290e-02, 0.0000e+00, 7.0700e+00, 0.0000e+00, 4.6900e-01,\n",
       "         7.1850e+00, 6.1100e+01, 4.9671e+00, 2.0000e+00, 2.4200e+02,\n",
       "         1.7800e+01, 3.9283e+02, 4.0300e+00]]),\n",
       " array([24. , 21.6, 34.7]))"
      ]
     },
     "execution_count": 4,
     "metadata": {},
     "output_type": "execute_result"
    }
   ],
   "source": [
    "housingX[:3], housingY[:3]"
   ]
  },
  {
   "cell_type": "markdown",
   "metadata": {},
   "source": [
    "#### 3 malicious websites"
   ]
  },
  {
   "cell_type": "code",
   "execution_count": 5,
   "metadata": {},
   "outputs": [
    {
     "data": {
      "text/html": [
       "<div>\n",
       "<style scoped>\n",
       "    .dataframe tbody tr th:only-of-type {\n",
       "        vertical-align: middle;\n",
       "    }\n",
       "\n",
       "    .dataframe tbody tr th {\n",
       "        vertical-align: top;\n",
       "    }\n",
       "\n",
       "    .dataframe thead th {\n",
       "        text-align: right;\n",
       "    }\n",
       "</style>\n",
       "<table border=\"1\" class=\"dataframe\">\n",
       "  <thead>\n",
       "    <tr style=\"text-align: right;\">\n",
       "      <th></th>\n",
       "      <th>URL</th>\n",
       "      <th>URL_LENGTH</th>\n",
       "      <th>NUMBER_SPECIAL_CHARACTERS</th>\n",
       "      <th>CHARSET</th>\n",
       "      <th>SERVER</th>\n",
       "      <th>CONTENT_LENGTH</th>\n",
       "      <th>WHOIS_COUNTRY</th>\n",
       "      <th>WHOIS_STATEPRO</th>\n",
       "      <th>WHOIS_REGDATE</th>\n",
       "      <th>WHOIS_UPDATED_DATE</th>\n",
       "      <th>...</th>\n",
       "      <th>DIST_REMOTE_TCP_PORT</th>\n",
       "      <th>REMOTE_IPS</th>\n",
       "      <th>APP_BYTES</th>\n",
       "      <th>SOURCE_APP_PACKETS</th>\n",
       "      <th>REMOTE_APP_PACKETS</th>\n",
       "      <th>SOURCE_APP_BYTES</th>\n",
       "      <th>REMOTE_APP_BYTES</th>\n",
       "      <th>APP_PACKETS</th>\n",
       "      <th>DNS_QUERY_TIMES</th>\n",
       "      <th>Type</th>\n",
       "    </tr>\n",
       "  </thead>\n",
       "  <tbody>\n",
       "    <tr>\n",
       "      <th>0</th>\n",
       "      <td>M0_109</td>\n",
       "      <td>16</td>\n",
       "      <td>7</td>\n",
       "      <td>iso-8859-1</td>\n",
       "      <td>nginx</td>\n",
       "      <td>263.0</td>\n",
       "      <td>None</td>\n",
       "      <td>None</td>\n",
       "      <td>10/10/2015 18:21</td>\n",
       "      <td>None</td>\n",
       "      <td>...</td>\n",
       "      <td>0</td>\n",
       "      <td>2</td>\n",
       "      <td>700</td>\n",
       "      <td>9</td>\n",
       "      <td>10</td>\n",
       "      <td>1153</td>\n",
       "      <td>832</td>\n",
       "      <td>9</td>\n",
       "      <td>2.0</td>\n",
       "      <td>1</td>\n",
       "    </tr>\n",
       "    <tr>\n",
       "      <th>1</th>\n",
       "      <td>B0_2314</td>\n",
       "      <td>16</td>\n",
       "      <td>6</td>\n",
       "      <td>UTF-8</td>\n",
       "      <td>Apache/2.4.10</td>\n",
       "      <td>15087.0</td>\n",
       "      <td>None</td>\n",
       "      <td>None</td>\n",
       "      <td>None</td>\n",
       "      <td>None</td>\n",
       "      <td>...</td>\n",
       "      <td>7</td>\n",
       "      <td>4</td>\n",
       "      <td>1230</td>\n",
       "      <td>17</td>\n",
       "      <td>19</td>\n",
       "      <td>1265</td>\n",
       "      <td>1230</td>\n",
       "      <td>17</td>\n",
       "      <td>0.0</td>\n",
       "      <td>0</td>\n",
       "    </tr>\n",
       "    <tr>\n",
       "      <th>2</th>\n",
       "      <td>B0_911</td>\n",
       "      <td>16</td>\n",
       "      <td>6</td>\n",
       "      <td>us-ascii</td>\n",
       "      <td>Microsoft-HTTPAPI/2.0</td>\n",
       "      <td>324.0</td>\n",
       "      <td>None</td>\n",
       "      <td>None</td>\n",
       "      <td>None</td>\n",
       "      <td>None</td>\n",
       "      <td>...</td>\n",
       "      <td>0</td>\n",
       "      <td>0</td>\n",
       "      <td>0</td>\n",
       "      <td>0</td>\n",
       "      <td>0</td>\n",
       "      <td>0</td>\n",
       "      <td>0</td>\n",
       "      <td>0</td>\n",
       "      <td>0.0</td>\n",
       "      <td>0</td>\n",
       "    </tr>\n",
       "    <tr>\n",
       "      <th>3</th>\n",
       "      <td>B0_113</td>\n",
       "      <td>17</td>\n",
       "      <td>6</td>\n",
       "      <td>ISO-8859-1</td>\n",
       "      <td>nginx</td>\n",
       "      <td>162.0</td>\n",
       "      <td>US</td>\n",
       "      <td>AK</td>\n",
       "      <td>7/10/1997 4:00</td>\n",
       "      <td>12/09/2013 0:45</td>\n",
       "      <td>...</td>\n",
       "      <td>22</td>\n",
       "      <td>3</td>\n",
       "      <td>3812</td>\n",
       "      <td>39</td>\n",
       "      <td>37</td>\n",
       "      <td>18784</td>\n",
       "      <td>4380</td>\n",
       "      <td>39</td>\n",
       "      <td>8.0</td>\n",
       "      <td>0</td>\n",
       "    </tr>\n",
       "    <tr>\n",
       "      <th>4</th>\n",
       "      <td>B0_403</td>\n",
       "      <td>17</td>\n",
       "      <td>6</td>\n",
       "      <td>UTF-8</td>\n",
       "      <td>None</td>\n",
       "      <td>124140.0</td>\n",
       "      <td>US</td>\n",
       "      <td>TX</td>\n",
       "      <td>12/05/1996 0:00</td>\n",
       "      <td>11/04/2017 0:00</td>\n",
       "      <td>...</td>\n",
       "      <td>2</td>\n",
       "      <td>5</td>\n",
       "      <td>4278</td>\n",
       "      <td>61</td>\n",
       "      <td>62</td>\n",
       "      <td>129889</td>\n",
       "      <td>4586</td>\n",
       "      <td>61</td>\n",
       "      <td>4.0</td>\n",
       "      <td>0</td>\n",
       "    </tr>\n",
       "  </tbody>\n",
       "</table>\n",
       "<p>5 rows × 21 columns</p>\n",
       "</div>"
      ],
      "text/plain": [
       "       URL  URL_LENGTH  NUMBER_SPECIAL_CHARACTERS     CHARSET  \\\n",
       "0   M0_109          16                          7  iso-8859-1   \n",
       "1  B0_2314          16                          6       UTF-8   \n",
       "2   B0_911          16                          6    us-ascii   \n",
       "3   B0_113          17                          6  ISO-8859-1   \n",
       "4   B0_403          17                          6       UTF-8   \n",
       "\n",
       "                  SERVER  CONTENT_LENGTH WHOIS_COUNTRY WHOIS_STATEPRO  \\\n",
       "0                  nginx           263.0          None           None   \n",
       "1          Apache/2.4.10         15087.0          None           None   \n",
       "2  Microsoft-HTTPAPI/2.0           324.0          None           None   \n",
       "3                  nginx           162.0            US             AK   \n",
       "4                   None        124140.0            US             TX   \n",
       "\n",
       "      WHOIS_REGDATE WHOIS_UPDATED_DATE  ...  DIST_REMOTE_TCP_PORT  REMOTE_IPS  \\\n",
       "0  10/10/2015 18:21               None  ...                     0           2   \n",
       "1              None               None  ...                     7           4   \n",
       "2              None               None  ...                     0           0   \n",
       "3    7/10/1997 4:00    12/09/2013 0:45  ...                    22           3   \n",
       "4   12/05/1996 0:00    11/04/2017 0:00  ...                     2           5   \n",
       "\n",
       "   APP_BYTES  SOURCE_APP_PACKETS  REMOTE_APP_PACKETS  SOURCE_APP_BYTES  \\\n",
       "0        700                   9                  10              1153   \n",
       "1       1230                  17                  19              1265   \n",
       "2          0                   0                   0                 0   \n",
       "3       3812                  39                  37             18784   \n",
       "4       4278                  61                  62            129889   \n",
       "\n",
       "   REMOTE_APP_BYTES  APP_PACKETS  DNS_QUERY_TIMES  Type  \n",
       "0               832            9              2.0     1  \n",
       "1              1230           17              0.0     0  \n",
       "2                 0            0              0.0     0  \n",
       "3              4380           39              8.0     0  \n",
       "4              4586           61              4.0     0  \n",
       "\n",
       "[5 rows x 21 columns]"
      ]
     },
     "execution_count": 5,
     "metadata": {},
     "output_type": "execute_result"
    }
   ],
   "source": [
    "df = pd.read_csv(\"datasets/malicious_websites/dataset.csv\", index_col=None)\n",
    "df.head()"
   ]
  },
  {
   "cell_type": "code",
   "execution_count": 6,
   "metadata": {},
   "outputs": [
    {
     "data": {
      "text/plain": [
       "Index(['URL', 'URL_LENGTH', 'NUMBER_SPECIAL_CHARACTERS', 'CHARSET', 'SERVER',\n",
       "       'CONTENT_LENGTH', 'WHOIS_COUNTRY', 'WHOIS_STATEPRO', 'WHOIS_REGDATE',\n",
       "       'WHOIS_UPDATED_DATE', 'TCP_CONVERSATION_EXCHANGE',\n",
       "       'DIST_REMOTE_TCP_PORT', 'REMOTE_IPS', 'APP_BYTES', 'SOURCE_APP_PACKETS',\n",
       "       'REMOTE_APP_PACKETS', 'SOURCE_APP_BYTES', 'REMOTE_APP_BYTES',\n",
       "       'APP_PACKETS', 'DNS_QUERY_TIMES', 'Type'],\n",
       "      dtype='object')"
      ]
     },
     "execution_count": 6,
     "metadata": {},
     "output_type": "execute_result"
    }
   ],
   "source": [
    "df.columns"
   ]
  },
  {
   "cell_type": "code",
   "execution_count": 7,
   "metadata": {},
   "outputs": [
    {
     "data": {
      "text/plain": [
       "(1781, 21)"
      ]
     },
     "execution_count": 7,
     "metadata": {},
     "output_type": "execute_result"
    }
   ],
   "source": [
    "df.shape"
   ]
  },
  {
   "cell_type": "code",
   "execution_count": 8,
   "metadata": {},
   "outputs": [
    {
     "name": "stdout",
     "output_type": "stream",
     "text": [
      "<class 'pandas.core.frame.DataFrame'>\n",
      "RangeIndex: 1781 entries, 0 to 1780\n",
      "Data columns (total 21 columns):\n",
      " #   Column                     Non-Null Count  Dtype  \n",
      "---  ------                     --------------  -----  \n",
      " 0   URL                        1781 non-null   object \n",
      " 1   URL_LENGTH                 1781 non-null   int64  \n",
      " 2   NUMBER_SPECIAL_CHARACTERS  1781 non-null   int64  \n",
      " 3   CHARSET                    1781 non-null   object \n",
      " 4   SERVER                     1780 non-null   object \n",
      " 5   CONTENT_LENGTH             969 non-null    float64\n",
      " 6   WHOIS_COUNTRY              1781 non-null   object \n",
      " 7   WHOIS_STATEPRO             1781 non-null   object \n",
      " 8   WHOIS_REGDATE              1781 non-null   object \n",
      " 9   WHOIS_UPDATED_DATE         1781 non-null   object \n",
      " 10  TCP_CONVERSATION_EXCHANGE  1781 non-null   int64  \n",
      " 11  DIST_REMOTE_TCP_PORT       1781 non-null   int64  \n",
      " 12  REMOTE_IPS                 1781 non-null   int64  \n",
      " 13  APP_BYTES                  1781 non-null   int64  \n",
      " 14  SOURCE_APP_PACKETS         1781 non-null   int64  \n",
      " 15  REMOTE_APP_PACKETS         1781 non-null   int64  \n",
      " 16  SOURCE_APP_BYTES           1781 non-null   int64  \n",
      " 17  REMOTE_APP_BYTES           1781 non-null   int64  \n",
      " 18  APP_PACKETS                1781 non-null   int64  \n",
      " 19  DNS_QUERY_TIMES            1780 non-null   float64\n",
      " 20  Type                       1781 non-null   int64  \n",
      "dtypes: float64(2), int64(12), object(7)\n",
      "memory usage: 292.3+ KB\n"
     ]
    }
   ],
   "source": [
    "df.info()"
   ]
  },
  {
   "cell_type": "code",
   "execution_count": 9,
   "metadata": {},
   "outputs": [],
   "source": [
    "df.fillna(method='backfill', inplace=True)"
   ]
  },
  {
   "cell_type": "code",
   "execution_count": 10,
   "metadata": {},
   "outputs": [],
   "source": [
    "for col in df.columns:\n",
    "    df[col] = pd.Categorical(df[col], categories=df[col].unique()).codes"
   ]
  },
  {
   "cell_type": "code",
   "execution_count": 11,
   "metadata": {},
   "outputs": [],
   "source": [
    "X = df.drop(columns=['Type'])\n",
    "y = df['Type']\n",
    "X, y = X.values, y.values\n",
    "X_train, X_test, y_train, y_test = train_test_split(X, y, test_size=0.20, \n",
    "                                                    random_state=42, stratify=y, shuffle=True)"
   ]
  },
  {
   "cell_type": "code",
   "execution_count": 12,
   "metadata": {},
   "outputs": [
    {
     "data": {
      "text/plain": [
       "'scaler = preprocessing.StandardScaler().fit(X)\\nX = scaler.transform(X)\\ny = y.reshape(-1,1)\\nscaler = preprocessing.StandardScaler().fit(y)\\ny = scaler.transform(y)\\ny=y.reshape(-1,1)'"
      ]
     },
     "execution_count": 12,
     "metadata": {},
     "output_type": "execute_result"
    }
   ],
   "source": [
    "\"\"\"scaler = preprocessing.StandardScaler().fit(X)\n",
    "X = scaler.transform(X)\n",
    "y = y.reshape(-1,1)\n",
    "scaler = preprocessing.StandardScaler().fit(y)\n",
    "y = scaler.transform(y)\n",
    "y=y.reshape(-1,1)\"\"\""
   ]
  },
  {
   "cell_type": "markdown",
   "metadata": {},
   "source": [
    "## Models"
   ]
  },
  {
   "cell_type": "code",
   "execution_count": 13,
   "metadata": {},
   "outputs": [],
   "source": [
    "#sklearn MLP classifier is used to make decisions\n",
    "\n",
    "class NeuralDecisionTreeClassifier():\n",
    "    def __init__(self,\n",
    "                 X=None,\n",
    "                 y=None,\n",
    "                 depth=1,\n",
    "                 min_leaf=10,\n",
    "                 threshold=0.5,\n",
    "                 mlp_features_ratio=1.):\n",
    "        self.X = X\n",
    "        self.y = y\n",
    "        self.n = 0 if X is None else X.shape[0]\n",
    "        self.depth = depth\n",
    "        self.min_leaf = min_leaf\n",
    "        self.mlp_model = None\n",
    "        self.lhs = None\n",
    "        self.rhs = None\n",
    "        self.threshold = threshold\n",
    "        self.mlp_features_ratio = mlp_features_ratio\n",
    "\n",
    "    def set_data(self, X, y):\n",
    "        self.X = X\n",
    "        self.y = y\n",
    "        self.n = X.shape[0]\n",
    "    \n",
    "    def get_tree_depth():\n",
    "        return self.depth\n",
    "    \n",
    "    def get_tree_min_leaves():\n",
    "        return self.min_leaf\n",
    "    \n",
    "    def fit(self, X, y, mlp_model=MLPClassifier(solver='lbfgs', hidden_layer_sizes=(50,)),\n",
    "            threshold=0.5, split_ratio=None):\n",
    "        self.mlp_model = mlp_model\n",
    "        if X is not None:\n",
    "            self.set_data(X, y)\n",
    "            self.threshold = threshold\n",
    "            self.mlp_features_indices = np.sort(np.array(\n",
    "                                                         random.sample(range(X.shape[1]), k=max(2, int(np.ceil(self.mlp_features_ratio * X.shape[1]))))))\n",
    "        if X.shape[0] == 0:\n",
    "            return\n",
    "        \n",
    "        if len(y) != self.n:\n",
    "            raise ValueError(\"Number of labels=%d does not match \"\n",
    "                             \"number of samples=%d\" % (len(y), n))\n",
    "              \n",
    "        mlp_model.fit(X[:, self.mlp_features_indices], y)\n",
    "        \n",
    "        if self.depth == 0 or self.min_leaf >= self.n:\n",
    "            return\n",
    "        if split_ratio is None:\n",
    "            routing_probs = (mlp_model.predict_proba(X[:, self.mlp_features_indices])[:, 0] >= threshold).astype(int)\n",
    "            X_left = X[np.where(routing_probs == 0)[0]]\n",
    "            X_right = X[np.where(routing_probs == 1)[0]]\n",
    "            y_left = y[np.where(routing_probs == 0)[0]]\n",
    "            y_right = y[np.where(routing_probs == 1)[0]]\n",
    "        else:\n",
    "            routing_probs = mlp_model.predict_proba(X[:, self.mlp_features_indices])[:, 0]\n",
    "            ord_indices = np.argsort(routing_probs)\n",
    "            left_indices = ord_indices[:-int(split_ratio * X.shape[0])]\n",
    "            right_indices = ord_indices[-int(split_ratio * X.shape[0]):]\n",
    "            X_left = X[left_indices]\n",
    "            X_right = X[right_indices]\n",
    "            y_left = y[left_indices]\n",
    "            y_right = y[right_indices]\n",
    "        \n",
    "        self.lhs = NeuralDecisionTreeClassifier(X=X_left, y=y_left, depth=self.depth - 1, min_leaf=self.min_leaf, mlp_features_ratio=self.mlp_features_ratio)\n",
    "        self.rhs = NeuralDecisionTreeClassifier(X=X_right, y=y_right, depth=self.depth - 1, min_leaf=self.min_leaf, mlp_features_ratio=self.mlp_features_ratio)\n",
    "        self.lhs.fit(X_left, y_left, mlp_model, threshold, split_ratio)\n",
    "        self.rhs.fit(X_right, y_right, mlp_model, threshold, split_ratio)\n",
    "    \n",
    "    def predict(self, X):\n",
    "        return np.array([self.predict_instance(X[i:i + 1, self.mlp_features_indices]) for i in range(len(X))])\n",
    "    \n",
    "    def predict_instance(self, X):\n",
    "        output = self.mlp_model.predict(X)\n",
    "        if self.depth == 1 or (self.lhs is None and self.rhs is None):\n",
    "            return output\n",
    "        if output <= self.threshold:\n",
    "            return self.lhs.predict_instance(X)\n",
    "        else:\n",
    "            return self.rhs.predict_instance(X)\n",
    "    \n",
    "    def print_tree(self, depth = 0):\n",
    "        if self is None:\n",
    "            return\n",
    "        print(self.X.shape[0], depth)\n",
    "        if self.rhs is not None:\n",
    "            self.lhs.print_tree(depth + 1)\n",
    "        if self.rhs is not None:\n",
    "            self.rhs.print_tree(depth + 1)"
   ]
  },
  {
   "cell_type": "code",
   "execution_count": 14,
   "metadata": {},
   "outputs": [],
   "source": [
    "#MLP Regressor is used from sklearn\n",
    "class NeuralDecisionTreeRegressor():\n",
    "    def __init__(self,\n",
    "                 X=None,\n",
    "                 y=None,\n",
    "                 depth=1,\n",
    "                 min_leaf=10,\n",
    "                 threshold=24,\n",
    "                 mlp_features_ratio=1.):\n",
    "        self.X = X\n",
    "        self.y = y\n",
    "        self.n = 0 if X is None else X.shape[0]\n",
    "        self.depth = depth\n",
    "        self.min_leaf = min_leaf\n",
    "        self.mlp_model = None\n",
    "        self.lhs = None\n",
    "        self.rhs = None\n",
    "        self.threshold = threshold\n",
    "        self.mlp_features_ratio = mlp_features_ratio\n",
    "\n",
    "    def set_data(self, X, y):\n",
    "        self.X = X\n",
    "        self.y = y\n",
    "        self.n = X.shape[0]\n",
    "    \n",
    "    def get_tree_depth():\n",
    "        return self.depth\n",
    "    \n",
    "    def get_tree_min_leaves():\n",
    "        return self.min_leaf\n",
    "    \n",
    "    def fit(self, X, y, mlp_model=MLPRegressor(solver='lbfgs', hidden_layer_sizes=(50,)),\n",
    "            threshold=0.5, split_ratio=None):\n",
    "        self.mlp_model = mlp_model\n",
    "        if X is not None:\n",
    "            self.set_data(X, y)\n",
    "            self.threshold = threshold\n",
    "            self.mlp_features_indices = np.sort(np.array(\n",
    "                                                         random.sample(range(X.shape[1]), k=max(2, int(np.ceil(self.mlp_features_ratio * X.shape[1]))))))\n",
    "        if X.shape[0] == 0:\n",
    "            return\n",
    "        \n",
    "        if len(y) != self.n:\n",
    "            raise ValueError(\"Number of labels=%d does not match \"\n",
    "                             \"number of samples=%d\" % (len(y), n))\n",
    "              \n",
    "        mlp_model.fit(X[:, self.mlp_features_indices], y)\n",
    "        \n",
    "        if self.depth == 0 or self.min_leaf >= self.n:\n",
    "            return\n",
    "       \n",
    "     \n",
    "        routing_probs = mlp_model.score(X[:, self.mlp_features_indices],y)\n",
    "        ord_indices = np.argsort(routing_probs)\n",
    "        left_indices = ord_indices[:-int(split_ratio * X.shape[0])]\n",
    "        right_indices = ord_indices[-int(split_ratio * X.shape[0]):]\n",
    "        X_left = X[left_indices]\n",
    "        X_right = X[right_indices]\n",
    "        y_left = y[left_indices]\n",
    "        y_right = y[right_indices]\n",
    "        \n",
    "        self.lhs = NeuralDecisionTreeRegressor(X=X_left, y=y_left, depth=self.depth - 1, min_leaf=self.min_leaf, mlp_features_ratio=self.mlp_features_ratio)\n",
    "        self.rhs = NeuralDecisionTreeRegressor(X=X_right, y=y_right, depth=self.depth - 1, min_leaf=self.min_leaf, mlp_features_ratio=self.mlp_features_ratio)\n",
    "        self.lhs.fit(X_left, y_left, mlp_model, threshold, split_ratio)\n",
    "        self.rhs.fit(X_right, y_right, mlp_model, threshold, split_ratio)\n",
    "    \n",
    "    def predict(self, X):\n",
    "        return np.array([self.predict_instance(X[i:i + 1, self.mlp_features_indices]) for i in range(len(X))])\n",
    "    \n",
    "    def predict_instance(self, X):\n",
    "        output = self.mlp_model.predict(X)\n",
    "        if self.depth == 1 or (self.lhs is None and self.rhs is None):\n",
    "            return output\n",
    "        if output <= self.threshold:\n",
    "            return self.lhs.predict_instance(X)\n",
    "        else:\n",
    "            return self.rhs.predict_instance(X)\n",
    "    \n",
    "    def print_tree(self, depth = 0):\n",
    "        if self is None:\n",
    "            return\n",
    "        print(self.X.shape[0], depth)\n",
    "        if self.rhs is not None:\n",
    "            self.lhs.print_tree(depth + 1)\n",
    "        if self.rhs is not None:\n",
    "            self.rhs.print_tree(depth + 1)"
   ]
  },
  {
   "cell_type": "markdown",
   "metadata": {},
   "source": [
    "# Tests"
   ]
  },
  {
   "cell_type": "markdown",
   "metadata": {},
   "source": [
    "#### NDTC  "
   ]
  },
  {
   "cell_type": "code",
   "execution_count": 15,
   "metadata": {},
   "outputs": [],
   "source": [
    "malicious_ndtc_depth = 3\n",
    "malicious_ndtc_hid = 50\n",
    "ndtc = NeuralDecisionTreeClassifier(depth=malicious_ndtc_depth )"
   ]
  },
  {
   "cell_type": "code",
   "execution_count": 16,
   "metadata": {},
   "outputs": [],
   "source": [
    "ndtc.fit(X_train, y_train,\n",
    "         mlp_model = MLPClassifier(solver='lbfgs', hidden_layer_sizes=(malicious_ndtc_hid,)), \n",
    "         threshold=0.5, split_ratio=0.95)"
   ]
  },
  {
   "cell_type": "code",
   "execution_count": 17,
   "metadata": {},
   "outputs": [
    {
     "name": "stdout",
     "output_type": "stream",
     "text": [
      "Train accuracy: 0.9578651685393258\n",
      "Test accuracy: 0.938375350140056\n"
     ]
    }
   ],
   "source": [
    "ndtc_train_acc = accuracy_score(ndtc.predict(X_train), y_train)\n",
    "ndtc_test_acc = accuracy_score(ndtc.predict(X_test), y_test)\n",
    "print(\"Train accuracy:\", ndtc_train_acc)\n",
    "print(\"Test accuracy:\", ndtc_test_acc)"
   ]
  },
  {
   "cell_type": "markdown",
   "metadata": {},
   "source": [
    "#### RFC and DTC "
   ]
  },
  {
   "cell_type": "code",
   "execution_count": 18,
   "metadata": {
    "scrolled": true
   },
   "outputs": [],
   "source": [
    "classifiers_depth =3\n",
    "models = {'RandomForestClassifier' : RandomForestClassifier(max_depth=classifiers_depth, n_estimators=10),\n",
    "         'DecisionTreeClassifier': DecisionTreeClassifier(max_depth=classifiers_depth)}"
   ]
  },
  {
   "cell_type": "code",
   "execution_count": 19,
   "metadata": {},
   "outputs": [
    {
     "name": "stdout",
     "output_type": "stream",
     "text": [
      "RandomForestClassifier train accuracy score: 0.9187675070028011\n",
      "RandomForestClassifier test accuracy score: 0.9143258426966292\n",
      "DecisionTreeClassifier train accuracy score: 0.9355742296918768\n",
      "DecisionTreeClassifier test accuracy score: 0.9360955056179775\n"
     ]
    }
   ],
   "source": [
    "rfc_dtc = []\n",
    "i=0\n",
    "for name, model in models.items():\n",
    "    model.fit(X_train, y_train)\n",
    "    preds = model.predict(X_test)\n",
    "    train_preds = model.predict(X_train)\n",
    "    rfc_dtc.append([accuracy_score(preds, y_test),accuracy_score(train_preds, y_train),name])\n",
    "    print(name, 'train accuracy score:',rfc_dtc[i][0] )\n",
    "    print(name, 'test accuracy score:', rfc_dtc[i][1])\n",
    "    i=i+1"
   ]
  },
  {
   "cell_type": "markdown",
   "metadata": {},
   "source": [
    "#### MLP CLASSIFIER"
   ]
  },
  {
   "cell_type": "code",
   "execution_count": 20,
   "metadata": {},
   "outputs": [
    {
     "name": "stdout",
     "output_type": "stream",
     "text": [
      "Test accuracy: 0.938375350140056\n",
      "Train accuracy: 0.9445224719101124\n"
     ]
    }
   ],
   "source": [
    "\"\"\" \n",
    "lbfgs — Stands for Limited-memory Broyden–Fletcher–Goldfarb–Shanno. It approximates the second derivative\n",
    "matrix updates with gradient evaluations. It stores only the last few updates, so it saves memory. \n",
    "It isn't super fast with large data sets.\n",
    "\"\"\"\n",
    "mlp_hid =50\n",
    "mlp_clf = MLPClassifier(solver='lbfgs', alpha=1e-3, hidden_layer_sizes=(mlp_hid), random_state=42)\n",
    "mlp_clf.fit(X_train, y_train)\n",
    "\n",
    "mlp_test_acc = accuracy_score(mlp_clf.predict(X_test), y_test)\n",
    "mlp_train_acc = accuracy_score(mlp_clf.predict(X_train), y_train)\n",
    "print(\"Test accuracy:\", mlp_test_acc )\n",
    "print(\"Train accuracy:\", mlp_train_acc )"
   ]
  },
  {
   "cell_type": "markdown",
   "metadata": {},
   "source": [
    "#### cross validation score for mlp classifier"
   ]
  },
  {
   "cell_type": "code",
   "execution_count": 21,
   "metadata": {},
   "outputs": [
    {
     "data": {
      "text/plain": [
       "array([0.84357542, 0.88202247, 0.87640449, 0.87640449, 0.87640449,\n",
       "       0.87640449, 0.89325843, 0.88202247, 0.88202247, 0.78651685])"
      ]
     },
     "execution_count": 21,
     "metadata": {},
     "output_type": "execute_result"
    }
   ],
   "source": [
    "fold = 10\n",
    "MLP_CV = cross_val_score(mlp_clf, X, y, cv=fold)\n",
    "MLP_CV"
   ]
  },
  {
   "cell_type": "code",
   "execution_count": 22,
   "metadata": {},
   "outputs": [
    {
     "data": {
      "text/plain": [
       "0.8675036093151716"
      ]
     },
     "execution_count": 22,
     "metadata": {},
     "output_type": "execute_result"
    }
   ],
   "source": [
    "MLP_cv_mean = sum(MLP_CV)/fold\n",
    "MLP_cv_mean"
   ]
  },
  {
   "cell_type": "markdown",
   "metadata": {},
   "source": [
    "#### NDTC 100 hidden layers"
   ]
  },
  {
   "cell_type": "code",
   "execution_count": 23,
   "metadata": {},
   "outputs": [
    {
     "name": "stdout",
     "output_type": "stream",
     "text": [
      "Train accuracy: 0.8785112359550562\n",
      "Test accuracy: 0.8795518207282913\n"
     ]
    }
   ],
   "source": [
    "ndtc = NeuralDecisionTreeClassifier(depth=3)\n",
    "malicious_ndtc_hid_1 =100\n",
    "ndtc.fit(X_train, y_train,\n",
    "         mlp_model = MLPClassifier(solver='lbfgs', hidden_layer_sizes=(malicious_ndtc_hid_1,)),\n",
    "         threshold=0.5, split_ratio=0.95)\n",
    "\n",
    "ndtc100_train_acc = accuracy_score(ndtc.predict(X_train), y_train)\n",
    "ndtc100_test_acc = accuracy_score(ndtc.predict(X_test), y_test)\n",
    "print(\"Train accuracy:\", ndtc100_train_acc)\n",
    "print(\"Test accuracy:\", ndtc100_test_acc )\n",
    "\n",
    "\n",
    "kfold = 4\n",
    "kf = KFold(n_splits=kfold)\n",
    "\n",
    "ndtc_err = []\n",
    "for train_index, test_index in kf.split(X):\n",
    "    \n",
    "    X_train, X_test = X[train_index], X[test_index]\n",
    "    y_train, y_test = y[train_index], y[test_index]\n",
    "    ndtc.fit(X_train, y_train, threshold=0.5, split_ratio=8)\n",
    "    y_pred = ndtc.predict(X_test)\n",
    "    ndtc_err.append(accuracy_score(y_test, y_pred))\n",
    "mean_acc_ndtc  =sum(ndtc_err)/kfold\n"
   ]
  },
  {
   "cell_type": "markdown",
   "metadata": {},
   "source": [
    "#### MLP Classifier 100"
   ]
  },
  {
   "cell_type": "code",
   "execution_count": 24,
   "metadata": {},
   "outputs": [
    {
     "name": "stdout",
     "output_type": "stream",
     "text": [
      "Test accuracy: 0.7955056179775281\n",
      "MLP Train accuracy: 0.9565868263473054\n"
     ]
    }
   ],
   "source": [
    "mlp_clf = MLPClassifier(solver='adam', alpha=1e-3, hidden_layer_sizes=(100), random_state=42)\n",
    "mlp_clf.fit(X_train, y_train)\n",
    "\n",
    "mlp100_test_acc = accuracy_score(mlp_clf.predict(X_test), y_test)\n",
    "mlp100_train_acc = accuracy_score(mlp_clf.predict(X_train), y_train)\n",
    "print(\"Test accuracy:\", mlp100_test_acc)\n",
    "print(\"MLP Train accuracy:\", mlp100_train_acc)\n"
   ]
  },
  {
   "cell_type": "code",
   "execution_count": 25,
   "metadata": {},
   "outputs": [],
   "source": [
    "kfold = 4\n",
    "kf = KFold(n_splits=kfold)\n",
    "\n",
    "mlp100_err = []\n",
    "for train_index, test_index in kf.split(X):\n",
    "    \n",
    "    X_train, X_test = X[train_index], X[test_index]\n",
    "    y_train, y_test = y[train_index], y[test_index]\n",
    "    mlp_clf.fit(X_train, y_train)\n",
    "    y_pred = mlp_clf.predict(X_test)\n",
    "    mlp100_err.append(accuracy_score(y_test, y_pred))\n",
    "mean_acc_mlp100  =sum(mlp100_err)/kfold\n"
   ]
  },
  {
   "cell_type": "markdown",
   "metadata": {},
   "source": [
    "#### NDTC depth =5 "
   ]
  },
  {
   "cell_type": "code",
   "execution_count": 26,
   "metadata": {},
   "outputs": [
    {
     "name": "stdout",
     "output_type": "stream",
     "text": [
      "Accuracy score on the test: 0.19101123595505617\n",
      "Accuracy score on the train: 0.09805389221556886\n"
     ]
    }
   ],
   "source": [
    "ndtc = NeuralDecisionTreeClassifier(depth=5)\n",
    "ndtc.fit(X_train, y_train, threshold=0.5, split_ratio=0.5)\n",
    "\n",
    "ndtc5_test_acc = accuracy_score(ndtc.predict(X_test), y_test)\n",
    "ndtc5_train_acc = accuracy_score(ndtc.predict(X_train), y_train)\n",
    "print(\"Accuracy score on the test:\",ndtc5_test_acc)\n",
    "print(\"Accuracy score on the train:\", ndtc5_train_acc)"
   ]
  },
  {
   "cell_type": "markdown",
   "metadata": {},
   "source": [
    "#### RFC and DTC  depth=5"
   ]
  },
  {
   "cell_type": "code",
   "execution_count": 27,
   "metadata": {},
   "outputs": [
    {
     "name": "stdout",
     "output_type": "stream",
     "text": [
      "RandomForestClassifier test accuracy score: 0.8089887640449438\n",
      "RandomForestClassifier train accuracy score: 0.9618263473053892\n",
      "DecisionTreeClassifier test accuracy score: 0.7910112359550562\n",
      "DecisionTreeClassifier train accuracy score: 0.9700598802395209\n"
     ]
    }
   ],
   "source": [
    "models = {'RandomForestClassifier' : \n",
    "          RandomForestClassifier(max_depth=5, n_estimators=10),\n",
    "         'DecisionTreeClassifier': DecisionTreeClassifier(max_depth=5)}\n",
    "\n",
    "for name, model in models.items():\n",
    "    model.fit(X_train, y_train)\n",
    "    preds = model.predict(X_test)\n",
    "    print(name, 'test accuracy score:', accuracy_score(preds, y_test))\n",
    "    \n",
    "    preds = model.predict(X_train)\n",
    "    print(name, 'train accuracy score:', accuracy_score(preds, y_train))"
   ]
  },
  {
   "cell_type": "markdown",
   "metadata": {},
   "source": [
    "#### NDTC 100 hidden"
   ]
  },
  {
   "cell_type": "code",
   "execution_count": 28,
   "metadata": {},
   "outputs": [],
   "source": [
    "mlp_clf = MLPClassifier(solver='adam', alpha=1e-3, hidden_layer_sizes=(100), random_state=42)\n",
    "mlp_clf.fit(X_train, y_train)\n",
    "ndtc = NeuralDecisionTreeClassifier(depth=3)\n",
    "ndtc.fit(X_train, y_train,mlp_model=mlp_clf ,threshold=0.5, split_ratio=0.95)"
   ]
  },
  {
   "cell_type": "code",
   "execution_count": 29,
   "metadata": {},
   "outputs": [
    {
     "name": "stdout",
     "output_type": "stream",
     "text": [
      "Train accuracy: 0.9603293413173652\n",
      "Test accuracy: 0.7955056179775281\n",
      "NDTC recall  0.9585987261146497\n"
     ]
    }
   ],
   "source": [
    "ndtc100_train_acc, ndtc100_test_acc = accuracy_score(ndtc.predict(X_train), y_train), accuracy_score(ndtc.predict(X_test), y_test)\n",
    "print(\"Train accuracy:\", ndtc100_train_acc )\n",
    "print(\"Test accuracy:\", ndtc100_test_acc )\n",
    "print(\"NDTC recall \", recall_score(ndtc.predict(X_train), y_train))\n"
   ]
  },
  {
   "cell_type": "code",
   "execution_count": 30,
   "metadata": {},
   "outputs": [],
   "source": [
    "y_pred = ndtc.predict(X_test)\n",
    "tn, fp, fn, tp = confusion_matrix(y_test, y_pred).ravel()\n"
   ]
  },
  {
   "cell_type": "code",
   "execution_count": 31,
   "metadata": {},
   "outputs": [
    {
     "data": {
      "text/plain": [
       "(1, 84, 7, 353)"
      ]
     },
     "execution_count": 31,
     "metadata": {},
     "output_type": "execute_result"
    }
   ],
   "source": [
    "tn, fp , fn, tp"
   ]
  },
  {
   "cell_type": "code",
   "execution_count": 32,
   "metadata": {},
   "outputs": [
    {
     "data": {
      "image/png": "[encoded data removed]",
      "text/plain": [
       "<Figure size 432x288 with 2 Axes>"
      ]
     },
     "metadata": {
      "needs_background": "light"
     },
     "output_type": "display_data"
    }
   ],
   "source": [
    "y_pred = ndtc.predict(X_test)\n",
    "cm = confusion_matrix(y_test, y_pred)\n",
    "\n",
    "cm_display = ConfusionMatrixDisplay(cm).plot()"
   ]
  },
  {
   "cell_type": "markdown",
   "metadata": {},
   "source": [
    "#### NDTC 100 with moons dataset"
   ]
  },
  {
   "cell_type": "code",
   "execution_count": 79,
   "metadata": {},
   "outputs": [
    {
     "name": "stdout",
     "output_type": "stream",
     "text": [
      "Train accuracy: 0.95625\n",
      "Test accuracy: 0.94\n"
     ]
    }
   ],
   "source": [
    "mlp_clf.fit(moons_X_train,moons_y_train)\n",
    "ndtc.fit(moons_X_train, moons_y_train,mlp_model=mlp_clf ,threshold=0.5, split_ratio=0.95)\n",
    "\n",
    "ndtc100_train_acc_moons, ndtc100_test_acc_moons = accuracy_score(ndtc.predict(moons_X_train), moons_y_train), accuracy_score(ndtc.predict(moons_X_test), moons_y_test)\n",
    "print(\"Train accuracy:\", ndtc100_train_acc_moons )\n",
    "print(\"Test accuracy:\", ndtc100_test_acc_moons )\n"
   ]
  },
  {
   "cell_type": "code",
   "execution_count": 80,
   "metadata": {},
   "outputs": [],
   "source": [
    "y_pred = ndtc.predict(moons_X_test)\n",
    "tn, fp, fn, tp = confusion_matrix(moons_y_test, y_pred).ravel()"
   ]
  },
  {
   "cell_type": "code",
   "execution_count": 81,
   "metadata": {},
   "outputs": [
    {
     "data": {
      "image/png": "[encoded data removed]",
      "text/plain": [
       "<Figure size 432x288 with 2 Axes>"
      ]
     },
     "metadata": {
      "needs_background": "light"
     },
     "output_type": "display_data"
    }
   ],
   "source": [
    "cm = confusion_matrix(moons_y_test, y_pred)\n",
    "\n",
    "cm_display = ConfusionMatrixDisplay(cm).plot()"
   ]
  },
  {
   "cell_type": "code",
   "execution_count": 82,
   "metadata": {},
   "outputs": [],
   "source": [
    "kf = KFold(n_splits=4)\n",
    "X= moonsX\n",
    "y = moonsy\n",
    "moons_cv =[]\n",
    "for train_index, test_index in kf.split(moonsX):\n",
    "    X_train, X_test = X[train_index], X[test_index]\n",
    "    y_train, y_test = y[train_index], y[test_index]\n",
    "    ndtc.fit(X_train,y_train)\n",
    "    y_pred = ndtc.predict(X_test)\n",
    "    moons_cv.append(accuracy_score(y_test, y_pred))\n",
    "moons_cv  =sum(moons_cv)/4"
   ]
  },
  {
   "cell_type": "markdown",
   "metadata": {},
   "source": [
    "#### NDTC with moons + hidden layers =50"
   ]
  },
  {
   "cell_type": "code",
   "execution_count": 94,
   "metadata": {},
   "outputs": [
    {
     "name": "stdout",
     "output_type": "stream",
     "text": [
      "Train accuracy: 0.95625\n",
      "Test accuracy: 0.94\n"
     ]
    },
    {
     "data": {
      "image/png": "[encoded data removed]",
      "text/plain": [
       "<Figure size 432x288 with 2 Axes>"
      ]
     },
     "metadata": {
      "needs_background": "light"
     },
     "output_type": "display_data"
    }
   ],
   "source": [
    "mlp_clf = MLPClassifier(solver='adam', alpha=1e-3, hidden_layer_sizes=(50), random_state=42)\n",
    "mlp_clf.fit(moons_X_train,moons_y_train)\n",
    "ndtc.fit(moons_X_train, moons_y_train,mlp_model=mlp_clf ,threshold=0.5, split_ratio=0.95)\n",
    "\n",
    "ndtc50_train_acc_moons, ndtc50_test_acc_moons = accuracy_score(ndtc.predict(moons_X_train), moons_y_train), accuracy_score(ndtc.predict(moons_X_test), moons_y_test)\n",
    "print(\"Train accuracy:\", ndtc50_train_acc_moons )\n",
    "print(\"Test accuracy:\", ndtc50_test_acc_moons )\n",
    "\n",
    "\n",
    "y_pred = ndtc.predict(moons_X_test)\n",
    "tn, fp, fn, tp = confusion_matrix(moons_y_test, y_pred).ravel()\n",
    "\n",
    "cm = confusion_matrix(moons_y_test, y_pred)\n",
    "\n",
    "cm_display = ConfusionMatrixDisplay(cm).plot()"
   ]
  },
  {
   "cell_type": "code",
   "execution_count": 95,
   "metadata": {},
   "outputs": [],
   "source": [
    "kf = KFold(n_splits=4)\n",
    "X= moonsX\n",
    "y = moonsy\n",
    "moons50_cv =[]\n",
    "for train_index, test_index in kf.split(moonsX):\n",
    "    X_train, X_test = X[train_index], X[test_index]\n",
    "    y_train, y_test = y[train_index], y[test_index]\n",
    "    ndtc.fit(X_train,y_train)\n",
    "    y_pred = ndtc.predict(X_test)\n",
    "    moons50_cv.append(accuracy_score(y_test, y_pred))\n",
    "moons50_cv  =sum(moons50_cv)/4"
   ]
  },
  {
   "cell_type": "code",
   "execution_count": 96,
   "metadata": {},
   "outputs": [
    {
     "data": {
      "text/plain": [
       "0.7585"
      ]
     },
     "execution_count": 96,
     "metadata": {},
     "output_type": "execute_result"
    }
   ],
   "source": [
    "moons50_cv"
   ]
  },
  {
   "cell_type": "code",
   "execution_count": null,
   "metadata": {},
   "outputs": [],
   "source": []
  },
  {
   "cell_type": "markdown",
   "metadata": {},
   "source": [
    "# Testing Neural Decision tree Regressor"
   ]
  },
  {
   "cell_type": "code",
   "execution_count": 33,
   "metadata": {},
   "outputs": [
    {
     "data": {
      "text/plain": [
       "(506, 13)"
      ]
     },
     "execution_count": 33,
     "metadata": {},
     "output_type": "execute_result"
    }
   ],
   "source": [
    "X = housingX\n",
    "y = housingY\n",
    "\n",
    "scaler = preprocessing.StandardScaler().fit(X)\n",
    "X = scaler.transform(X)\n",
    "y = y.reshape(-1,1)\n",
    "scaler = preprocessing.StandardScaler().fit(y)\n",
    "y = scaler.transform(y)\n",
    "y=y.reshape(-1,1)\n",
    "\n",
    "X_train = X[:400]\n",
    "y_train = y[:400]\n",
    "X_test = X[400:500]\n",
    "y_test = y[400:500]\n",
    "\n",
    "X.shape"
   ]
  },
  {
   "cell_type": "code",
   "execution_count": 34,
   "metadata": {},
   "outputs": [],
   "source": [
    "ndtr = NeuralDecisionTreeRegressor(depth=3)\n",
    "ndtr.fit(X_train, y_train, threshold=0.5, split_ratio=8)"
   ]
  },
  {
   "cell_type": "code",
   "execution_count": 35,
   "metadata": {},
   "outputs": [
    {
     "data": {
      "text/plain": [
       "2.453118681386701"
      ]
     },
     "execution_count": 35,
     "metadata": {},
     "output_type": "execute_result"
    }
   ],
   "source": [
    "y_pred = ndtr.predict(X_test)\n",
    "ndtr_mse = mean_squared_error(y_test, y_pred)\n",
    "ndtr_mse"
   ]
  },
  {
   "cell_type": "code",
   "execution_count": 36,
   "metadata": {},
   "outputs": [
    {
     "name": "stdout",
     "output_type": "stream",
     "text": [
      "Baseline: 0.52 (0.53) MSE\n",
      "Baseline: -0.77 (0.58) MSE\n"
     ]
    }
   ],
   "source": [
    "print(\"Baseline: %.2f (%.2f) MSE\" % (y_pred.mean(), y_pred.std()))\n",
    "print(\"Baseline: %.2f (%.2f) MSE\" % (y_test.mean(), y_test.std()))"
   ]
  },
  {
   "cell_type": "code",
   "execution_count": 37,
   "metadata": {},
   "outputs": [
    {
     "data": {
      "text/plain": [
       "4"
      ]
     },
     "execution_count": 37,
     "metadata": {},
     "output_type": "execute_result"
    }
   ],
   "source": [
    "#KFOLD Cross Validation for NDTR\n",
    "\n",
    "split = 4\n",
    "kf = KFold(n_splits=split)\n",
    "x=np.array(housingdf)\n",
    "kf.get_n_splits(x)"
   ]
  },
  {
   "cell_type": "code",
   "execution_count": 38,
   "metadata": {},
   "outputs": [],
   "source": [
    "err = []\n",
    "for train_index, test_index in kf.split(x):\n",
    "    \n",
    "    X_train, X_test = X[train_index], X[test_index]\n",
    "    y_train, y_test = y[train_index], y[test_index]\n",
    "    ndtr.fit(X_train, y_train, threshold=0.5, split_ratio=8)\n",
    "    y_pred = ndtr.predict(X_test)\n",
    "    err.append(mean_squared_error(y_test, y_pred))\n"
   ]
  },
  {
   "cell_type": "code",
   "execution_count": 39,
   "metadata": {},
   "outputs": [
    {
     "data": {
      "text/plain": [
       "[0.989564610655169, 2.1571336861978976, 1.975262297329108, 1.3317534717312387]"
      ]
     },
     "execution_count": 39,
     "metadata": {},
     "output_type": "execute_result"
    }
   ],
   "source": [
    "err"
   ]
  },
  {
   "cell_type": "code",
   "execution_count": 40,
   "metadata": {},
   "outputs": [
    {
     "name": "stdout",
     "output_type": "stream",
     "text": [
      "MSE for kfold:  1.6134285164783533\n"
     ]
    }
   ],
   "source": [
    "MSE = (sum(err))/split\n",
    "print(\"MSE for kfold: \", MSE)"
   ]
  },
  {
   "cell_type": "markdown",
   "metadata": {},
   "source": [
    "#### MLP Regressor"
   ]
  },
  {
   "cell_type": "code",
   "execution_count": 41,
   "metadata": {},
   "outputs": [],
   "source": [
    "regr = MLPRegressor(random_state=1,hidden_layer_sizes=(50,), max_iter=500).fit(X_train, y_train)\n",
    "regr.score(X_test, y_test)\n",
    "y_pred = regr.predict(X_test)\n",
    "\n",
    "mse_mlpr =mean_squared_error(y_test, y_pred )"
   ]
  },
  {
   "cell_type": "code",
   "execution_count": 42,
   "metadata": {},
   "outputs": [
    {
     "name": "stdout",
     "output_type": "stream",
     "text": [
      "MSE for kfold:  1.0142203934396186\n"
     ]
    }
   ],
   "source": [
    "mlpr_err = []\n",
    "for train_index, test_index in kf.split(x):\n",
    "    \n",
    "    X_train, X_test = X[train_index], X[test_index]\n",
    "    y_train, y_test = y[train_index], y[test_index]\n",
    "    ndtr.fit(X_train, y_train, threshold=0.5, split_ratio=8)\n",
    "    y_pred = ndtr.predict(X_test)\n",
    "    mlpr_err.append(mean_squared_error(y_test, y_pred))\n",
    "mlpr_err = (sum(mlpr_err))/split\n",
    "print(\"MSE for kfold: \", mlpr_err)"
   ]
  },
  {
   "cell_type": "markdown",
   "metadata": {},
   "source": [
    "#### DT Regressor"
   ]
  },
  {
   "cell_type": "code",
   "execution_count": 43,
   "metadata": {},
   "outputs": [
    {
     "data": {
      "text/plain": [
       "-0.07445815189598051"
      ]
     },
     "execution_count": 43,
     "metadata": {},
     "output_type": "execute_result"
    }
   ],
   "source": [
    "dtr = DecisionTreeRegressor(random_state=0,max_depth=5)\n",
    "dtr_err = cross_val_score(dtr, X, y, cv=10)\n",
    "dtr.fit(X_train,y_train)\n",
    "ypred0 = dtr.predict(X_test)\n",
    "mse_dtr = mean_squared_error(ypred0,y_test)\n",
    "mse_cross_val = sum(dtr_err)/10\n",
    "mse_cross_val"
   ]
  },
  {
   "cell_type": "markdown",
   "metadata": {},
   "source": [
    "**RF Regressor**"
   ]
  },
  {
   "cell_type": "code",
   "execution_count": 100,
   "metadata": {},
   "outputs": [
    {
     "data": {
      "text/plain": [
       "0.9006772052178608"
      ]
     },
     "execution_count": 100,
     "metadata": {},
     "output_type": "execute_result"
    }
   ],
   "source": [
    "rfr = RandomForestRegressor(random_state=0)\n",
    "rfr_err = cross_val_score(rfr, X, y, cv=10)\n",
    "rfr.fit(X_train,y_train)\n",
    "ypred1 = rfr.predict(X_test)\n",
    "mse_rfr = mean_squared_error(ypred1,y_test)\n",
    "mse_cross_val_rfr = sum(rfr_err)/10\n",
    "mse_cross_val_rfr"
   ]
  },
  {
   "cell_type": "code",
   "execution_count": null,
   "metadata": {},
   "outputs": [],
   "source": []
  },
  {
   "cell_type": "markdown",
   "metadata": {},
   "source": [
    "## Report &Discussion"
   ]
  },
  {
   "cell_type": "markdown",
   "metadata": {},
   "source": [
    "My results are as followed:<p>\n",
    "Classifiers **dataset: Malicious Websites**"
   ]
  },
  {
   "cell_type": "code",
   "execution_count": 68,
   "metadata": {},
   "outputs": [],
   "source": [
    "table = [['Model Name', 'Depth', 'Hidden Layer','Train Acc','Test Acc','Cross. val'], \n",
    "        ['NDT Classifier' ,malicious_ndtc_depth, malicious_ndtc_hid,ndtc_train_acc, ndtc_test_acc ],\n",
    "        ['NDT Classifier' ,malicious_ndtc_depth, 100, ndtc100_train_acc, ndtc100_test_acc,mean_acc_ndtc ],\n",
    "        ['NDT Classifier' , 5, 50, ndtc5_train_acc, ndtc5_test_acc, 0 ],\n",
    "        [ rfc_dtc[0][2], classifiers_depth,0, rfc_dtc[0][0], rfc_dtc[0][1]],\n",
    "        [ rfc_dtc[1][2], classifiers_depth,0, rfc_dtc[1][0], rfc_dtc[1][1]],\n",
    "        ['MLP Classifier', 0, mlp_hid, mlp_train_acc, mlp_test_acc, MLP_cv_mean],\n",
    "        ['MLP Classifier', 0, 100, mlp100_train_acc,mlp100_test_acc, mean_acc_mlp100],\n",
    "        ['NDT Classifier_100', 0, malicious_ndtc_hid_1, ndtc100_test_acc, ndtc100_test_acc, mean_acc_ndtc]]"
   ]
  },
  {
   "cell_type": "code",
   "execution_count": 69,
   "metadata": {},
   "outputs": [
    {
     "name": "stdout",
     "output_type": "stream",
     "text": [
      "╒════════════════════════╤═════════╤════════════════╤═════════════╤════════════╤══════════════╕\n",
      "│ Model Name             │   Depth │   Hidden Layer │   Train Acc │   Test Acc │   Cross. val │\n",
      "╞════════════════════════╪═════════╪════════════════╪═════════════╪════════════╪══════════════╡\n",
      "│ NDT Classifier         │       3 │             50 │   0.957865  │   0.938375 │              │\n",
      "├────────────────────────┼─────────┼────────────────┼─────────────┼────────────┼──────────────┤\n",
      "│ NDT Classifier         │       3 │            100 │   0.960329  │   0.795506 │     0.879862 │\n",
      "├────────────────────────┼─────────┼────────────────┼─────────────┼────────────┼──────────────┤\n",
      "│ NDT Classifier         │       5 │             50 │   0.0980539 │   0.191011 │     0        │\n",
      "├────────────────────────┼─────────┼────────────────┼─────────────┼────────────┼──────────────┤\n",
      "│ RandomForestClassifier │       3 │              0 │   0.918768  │   0.914326 │              │\n",
      "├────────────────────────┼─────────┼────────────────┼─────────────┼────────────┼──────────────┤\n",
      "│ DecisionTreeClassifier │       3 │              0 │   0.935574  │   0.936096 │              │\n",
      "├────────────────────────┼─────────┼────────────────┼─────────────┼────────────┼──────────────┤\n",
      "│ MLP Classifier         │       0 │             50 │   0.944522  │   0.938375 │     0.867504 │\n",
      "├────────────────────────┼─────────┼────────────────┼─────────────┼────────────┼──────────────┤\n",
      "│ MLP Classifier         │       0 │            100 │   0.956587  │   0.795506 │     0.883772 │\n",
      "├────────────────────────┼─────────┼────────────────┼─────────────┼────────────┼──────────────┤\n",
      "│ NDT Classifier_100     │       0 │            100 │   0.795506  │   0.795506 │     0.879862 │\n",
      "╘════════════════════════╧═════════╧════════════════╧═════════════╧════════════╧══════════════╛\n"
     ]
    }
   ],
   "source": [
    "print(tabulate(table, headers='firstrow',  tablefmt='fancy_grid'))"
   ]
  },
  {
   "cell_type": "markdown",
   "metadata": {},
   "source": [
    "As we compare Neural Decision tree Classifier when we increase hidden layers from 50 to 100, train accuracy increased but test accuracy decreased, I guess that means model tends to overfit as we increase hidden layers. Increasing complexity with this dataset is not good idea since out dataset (malicious websites) is small. Maybe if we had larger dataset this value could increase."
   ]
  },
  {
   "cell_type": "code",
   "execution_count": 97,
   "metadata": {},
   "outputs": [],
   "source": [
    "table2 = [['Model Name', 'Depth', 'Hidden Layer','Train Acc','Test Acc','Cross. val'], \n",
    "        ['NDTC' ,3 , 100,ndtc100_train_acc_moons, ndtc100_test_acc_moons, moons_cv ],\n",
    "         ['NDTC', 3, 50, ndtc50_train_acc_moons, ndtc50_test_acc_moons, moons50_cv]]\n"
   ]
  },
  {
   "cell_type": "markdown",
   "metadata": {},
   "source": [
    "DATASET : moons"
   ]
  },
  {
   "cell_type": "markdown",
   "metadata": {},
   "source": [
    "When we decrease hidden layer from 100 to 50, only cross val accuracy increased with moons dataset which i couldnt understand the reason..."
   ]
  },
  {
   "cell_type": "code",
   "execution_count": 98,
   "metadata": {},
   "outputs": [
    {
     "name": "stdout",
     "output_type": "stream",
     "text": [
      "╒══════════════╤═════════╤════════════════╤═════════════╤════════════╤══════════════╕\n",
      "│ Model Name   │   Depth │   Hidden Layer │   Train Acc │   Test Acc │   Cross. val │\n",
      "╞══════════════╪═════════╪════════════════╪═════════════╪════════════╪══════════════╡\n",
      "│ NDTC         │       3 │            100 │     0.95625 │       0.94 │       0.7195 │\n",
      "├──────────────┼─────────┼────────────────┼─────────────┼────────────┼──────────────┤\n",
      "│ NDTC         │       3 │             50 │     0.95625 │       0.94 │       0.7585 │\n",
      "╘══════════════╧═════════╧════════════════╧═════════════╧════════════╧══════════════╛\n"
     ]
    }
   ],
   "source": [
    "print(tabulate(table2, headers='firstrow',  tablefmt='fancy_grid'))"
   ]
  },
  {
   "cell_type": "markdown",
   "metadata": {},
   "source": [
    "Regressors:<p>\n",
    "**dataset : housing**"
   ]
  },
  {
   "cell_type": "code",
   "execution_count": 103,
   "metadata": {},
   "outputs": [],
   "source": [
    "regression_Table = [['Model Name', 'Depth', 'Hidden Layer','MSE', 'cross val MSE'],\n",
    "                    ['NDT Regressor', 3, 50, ndtr_mse, MSE ],\n",
    "                    ['MLP Regressor', 0, 50, mse_mlpr, mlpr_err],\n",
    "                    ['DT Regressor', 5, 0, mse_dtr, mse_cross_val ],\n",
    "                    ['RF Regressor', 0, 0, mse_rfr, mse_cross_val_rfr]]"
   ]
  },
  {
   "cell_type": "markdown",
   "metadata": {},
   "source": [
    "As we see in the table below, our neural decision tree gives higher mse compared to DT and MLP, RF regressor gave min among them"
   ]
  },
  {
   "cell_type": "code",
   "execution_count": 105,
   "metadata": {},
   "outputs": [
    {
     "name": "stdout",
     "output_type": "stream",
     "text": [
      "╒═══════════════╤═════════╤════════════════╤═══════════╤═════════════════╕\n",
      "│ Model Name    │   Depth │   Hidden Layer │       MSE │   cross val MSE │\n",
      "╞═══════════════╪═════════╪════════════════╪═══════════╪═════════════════╡\n",
      "│ NDT Regressor │       3 │             50 │ 2.45312   │       1.61343   │\n",
      "├───────────────┼─────────┼────────────────┼───────────┼─────────────────┤\n",
      "│ MLP Regressor │       0 │             50 │ 0.640942  │       1.01422   │\n",
      "├───────────────┼─────────┼────────────────┼───────────┼─────────────────┤\n",
      "│ DT Regressor  │       5 │              0 │ 0.0282708 │      -0.0744582 │\n",
      "├───────────────┼─────────┼────────────────┼───────────┼─────────────────┤\n",
      "│ RF Regressor  │       0 │              0 │ 0.0282708 │       0.900677  │\n",
      "╘═══════════════╧═════════╧════════════════╧═══════════╧═════════════════╛\n"
     ]
    }
   ],
   "source": [
    "print(tabulate(regression_Table, headers='firstrow',  tablefmt='fancy_grid'))"
   ]
  },
  {
   "cell_type": "code",
   "execution_count": null,
   "metadata": {},
   "outputs": [],
   "source": []
  },
  {
   "cell_type": "code",
   "execution_count": null,
   "metadata": {},
   "outputs": [],
   "source": []
  }
 ],
 "metadata": {
  "kernelspec": {
   "display_name": "Python 3",
   "language": "python",
   "name": "python3"
  },
  "language_info": {
   "codemirror_mode": {
    "name": "ipython",
    "version": 3
   },
   "file_extension": ".py",
   "mimetype": "text/x-python",
   "name": "python",
   "nbconvert_exporter": "python",
   "pygments_lexer": "ipython3",
   "version": "3.8.10"
  }
 },
 "nbformat": 4,
 "nbformat_minor": 2
}
